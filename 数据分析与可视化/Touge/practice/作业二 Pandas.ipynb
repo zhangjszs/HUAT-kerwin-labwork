{
 "cells": [
  {
   "cell_type": "markdown",
   "metadata": {},
   "source": [
    "# 第1关：了解数据处理对象--Series"
   ]
  },
  {
   "cell_type": "code",
   "execution_count": null,
   "metadata": {
    "vscode": {
     "languageId": "plaintext"
    }
   },
   "outputs": [],
   "source": [
    "# -*- coding: utf-8 -*-\n",
    "from pandas import Series,DataFrame\n",
    "import  pandas as pd\n",
    "\n",
    "def create_series():\n",
    "    '''\n",
    "    返回值:\n",
    "    series_a: 一个Series类型数据\n",
    "    series_b: 一个Series类型数据\n",
    "    dict_a：  一个字典类型数据\n",
    "    '''\n",
    "    # 请在此添加代码 完成本关任务\n",
    "    # ********** Begin *********#\n",
    "    series_a = pd.Series([1,2,5,7],index=['nu','li','xue','xi'])\n",
    "    dict_a = {'ting':1, 'shuo':2, 'du':32, 'xie':44}\n",
    "    series_b = pd.Series(dict_a)\n",
    "\n",
    "    # ********** End **********#\n",
    "\n",
    "    # 返回series_a,dict_a,series_b\n",
    "    return series_a,dict_a,series_b"
   ]
  },
  {
   "cell_type": "markdown",
   "metadata": {},
   "source": [
    "# 第2关：了解数据处理对象-DataFrame"
   ]
  },
  {
   "cell_type": "code",
   "execution_count": null,
   "metadata": {
    "vscode": {
     "languageId": "plaintext"
    }
   },
   "outputs": [],
   "source": [
    "# -*- coding: utf-8 -*-\n",
    "from pandas import Series,DataFrame\n",
    "import  pandas as pd\n",
    "\n",
    "def create_dataframe():\n",
    "    '''\n",
    "    返回值:\n",
    "    df1: 一个DataFrame类型数据\n",
    "    '''\n",
    "    # 请在此添加代码 完成本关任务\n",
    "    # ********** Begin *********#\n",
    "    import pandas as pd\n",
    "\n",
    "\n",
    "    data = {\n",
    "    'states': ['State1', 'State2', 'State3', 'State4', 'State5'],\n",
    "    'years': [2020, 2021, 2022, 2023, 2024],\n",
    "    'pops': [100, 200, 300, 400, 500]\n",
    "}\n",
    "    df1 = pd.DataFrame(data, index=['one', 'two', 'three', 'four', 'five'])\n",
    "    df1['new_add'] = [7, 4, 5, 8, 2]\n",
    "\n",
    "\n",
    "    # ********** End **********#\n",
    "\n",
    "    #返回df1\n",
    "    return df1"
   ]
  },
  {
   "cell_type": "markdown",
   "metadata": {},
   "source": [
    "# 第3关：读取CSV格式数据"
   ]
  },
  {
   "cell_type": "code",
   "execution_count": null,
   "metadata": {
    "vscode": {
     "languageId": "plaintext"
    }
   },
   "outputs": [],
   "source": [
    "# -*- coding: utf-8 -*-\n",
    "from pandas import Series,DataFrame\n",
    "import  pandas as pd\n",
    "def read_csv_data():\n",
    "    '''\n",
    "    返回值:\n",
    "    df1: 一个DataFrame类型数据\n",
    "    length1: 一个int类型数据\n",
    "    '''\n",
    "    # 请在此添加代码 完成本关任务\n",
    "    # ********** Begin *********#\n",
    "    df1 = pd.read_csv('test3/uk_rain_2014.csv',header = 0,encoding = 'gbk')\n",
    "    df1.columns = ['water_year','rain_octsep','outflow_octsep','rain_decfeb', 'outflow_decfeb', 'rain_junaug', 'outflow_junaug']\n",
    "    length1 = len(df1)\n",
    "    # ********** End **********#\n",
    "    #返回df1,length1\n",
    "    return df1,length1"
   ]
  },
  {
   "cell_type": "markdown",
   "metadata": {},
   "source": [
    "# 第4关：数据的基本操作——排序"
   ]
  },
  {
   "cell_type": "code",
   "execution_count": null,
   "metadata": {
    "vscode": {
     "languageId": "plaintext"
    }
   },
   "outputs": [],
   "source": [
    "# -*- coding: utf-8 -*-\n",
    "from pandas import Series,DataFrame\n",
    "import  pandas as pd\n",
    "def sort_gate():\n",
    "    '''\n",
    "    返回值:\n",
    "    s2: 一个Series类型数据\n",
    "    d2: 一个DataFrame类型数据\n",
    "    '''\n",
    "\n",
    "    # s1是Series类型数据，d1是DataFrame类型数据\n",
    "    s1 = Series([4, 3, 7, 2, 8], index=['z', 'y', 'j', 'i', 'e'])\n",
    "    d1 = DataFrame({'e': [4, 2, 6, 1], 'f': [0, 5, 4, 2]})\n",
    "\n",
    "    # 请在此添加代码 完成本关任务\n",
    "    # ********** Begin *********#\n",
    "    s2 = s1.sort_index()\n",
    "    d2 = d1.sort_values(by='f')\n",
    "    # ********** End **********#\n",
    "\n",
    "\n",
    "\n",
    "    #返回s2,d2\n",
    "    return s2,d2"
   ]
  },
  {
   "cell_type": "markdown",
   "metadata": {},
   "source": [
    "# 第5关：数据的基本操作——删除"
   ]
  },
  {
   "cell_type": "code",
   "execution_count": null,
   "metadata": {
    "vscode": {
     "languageId": "plaintext"
    }
   },
   "outputs": [],
   "source": [
    "# -*- coding: utf-8 -*-\n",
    "from pandas import Series,DataFrame\n",
    "import numpy as np\n",
    "import  pandas as pd\n",
    "\n",
    "def delete_data():\n",
    "    '''\n",
    "    返回值:\n",
    "    s2: 一个Series类型数据\n",
    "    d2: 一个DataFrame类型数据\n",
    "    '''\n",
    "\n",
    "    # s1是Series类型数据，d1是DataFrame类型数据\n",
    "    s1 = Series([5, 2, 4, 1], index=['v', 'x', 'y', 'z'])\n",
    "    d1=DataFrame(np.arange(9).reshape(3,3), columns=['xx','yy','zz'])\n",
    "    # 请在此添加代码 完成本关任务\n",
    "    # ********** Begin *********#\n",
    "    s2 = s1.drop('z')\n",
    "    d2 = d1.drop('yy',axis=1)\n",
    "\n",
    "    # ********** End **********#\n",
    "\n",
    "    # 返回s2,d2\n",
    "    return s2, d2"
   ]
  },
  {
   "cell_type": "markdown",
   "metadata": {},
   "source": [
    "# 第6关：数据的基本操作——算术运算"
   ]
  },
  {
   "cell_type": "code",
   "execution_count": null,
   "metadata": {
    "vscode": {
     "languageId": "plaintext"
    }
   },
   "outputs": [],
   "source": [
    "# -*- coding: utf-8 -*-\n",
    "from pandas import Series,DataFrame\n",
    "import numpy as np\n",
    "import  pandas as pd\n",
    "\n",
    "def add_way():\n",
    "    '''\n",
    "    返回值:\n",
    "    df3: 一个DataFrame类型数据\n",
    "    '''\n",
    "\n",
    "    # df1,df2是DataFrame类型数据\n",
    "    df1 = DataFrame(np.arange(12.).reshape((3, 4)), columns=list('abcd'))\n",
    "    df2 = DataFrame(np.arange(20.).reshape((4, 5)), columns=list('abcde'))\n",
    "\n",
    "    # 请在此添加代码 完成本关任务\n",
    "    # ********** Begin *********#\n",
    "    df3=df1.add(df2,fill_value=4)\n",
    "    # ********** End **********#\n",
    "\n",
    "    # 返回df3\n",
    "    return df3"
   ]
  },
  {
   "cell_type": "markdown",
   "metadata": {},
   "source": [
    "# 第7关：数据的基本操作——去重"
   ]
  },
  {
   "cell_type": "code",
   "execution_count": null,
   "metadata": {
    "vscode": {
     "languageId": "plaintext"
    }
   },
   "outputs": [],
   "source": [
    "# -*- coding: utf-8 -*-\n",
    "from pandas import Series,DataFrame\n",
    "import  pandas as pd\n",
    "\n",
    "def delete_duplicated():\n",
    "    '''\n",
    "    返回值:\n",
    "    df2: 一个DataFrame类型数据\n",
    "    '''\n",
    "\n",
    "    # df1是DataFrame类型数据\n",
    "    df1 = DataFrame({'k1': ['one'] * 3 + ['two'] * 4, 'k2': [1, 1, 2, 3, 3, 4, 4]})\n",
    "    # 请在此添加代码 完成本关任务\n",
    "    # ********** Begin *********#\n",
    "    df2 = df1.drop_duplicates()\n",
    "    \n",
    "    # ********** End **********#\n",
    "\n",
    "    # 返回df2\n",
    "    return df2"
   ]
  }
 ],
 "metadata": {
  "language_info": {
   "name": "python"
  }
 },
 "nbformat": 4,
 "nbformat_minor": 2
}
