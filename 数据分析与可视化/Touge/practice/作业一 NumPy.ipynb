{
 "cells": [
  {
   "cell_type": "markdown",
   "metadata": {},
   "source": [
    "# 第1关：Numpy创建数组"
   ]
  },
  {
   "cell_type": "code",
   "execution_count": null,
   "metadata": {
    "vscode": {
     "languageId": "plaintext"
    }
   },
   "outputs": [],
   "source": [
    "# 引入numpy库\n",
    "import numpy as np\n",
    "# 定义cnmda函数\n",
    "def cnmda(m,n):\n",
    "    '''\n",
    "    创建numpy数组\n",
    "    参数：\n",
    "           m:第一维的长度\n",
    "           n: 第二维的长度\n",
    "    返回值:\n",
    "        ret: 一个numpy数组\n",
    "    '''\n",
    "    ret = 0\n",
    "    # 请在此添加创建多维数组的代码并赋值给ret\n",
    "    #********** Begin *********#\n",
    "    x = [y for y in range(n)]\n",
    "    ret = np.array([x]*m)\n",
    "    #********** End **********#\n",
    "    return ret\n",
    "\n"
   ]
  },
  {
   "cell_type": "markdown",
   "metadata": {},
   "source": [
    "# 第2关：比较、掩码和布尔逻辑"
   ]
  },
  {
   "cell_type": "code",
   "execution_count": null,
   "metadata": {
    "vscode": {
     "languageId": "plaintext"
    }
   },
   "outputs": [],
   "source": [
    "import numpy as np\n",
    "\n",
    "def student(num, input_data):\n",
    "    result = []\n",
    "    # ​********* Begin ​*********#\n",
    "    arr = np.array(input_data)\n",
    "    result = arr[arr > num]\n",
    "    # ​********* End ​*********#\n",
    "    return result"
   ]
  },
  {
   "cell_type": "markdown",
   "metadata": {},
   "source": [
    "# 第3关：花式索引与布尔索引"
   ]
  },
  {
   "cell_type": "code",
   "execution_count": null,
   "metadata": {
    "vscode": {
     "languageId": "plaintext"
    }
   },
   "outputs": [],
   "source": [
    "import numpy as np\n",
    "def student(input_data):\n",
    "    result=[]\n",
    "    #********* Begin *********#\n",
    "    d=np.array(input_data)\n",
    "    result=d[(d>='A')&(d<='Z')]\n",
    "    # ********* End *********#\n",
    "    return result"
   ]
  },
  {
   "cell_type": "markdown",
   "metadata": {},
   "source": [
    "# 第4关：Numpy数组的切片与索引"
   ]
  },
  {
   "cell_type": "code",
   "execution_count": null,
   "metadata": {
    "vscode": {
     "languageId": "plaintext"
    }
   },
   "outputs": [],
   "source": [
    "# 引入numpy库\n",
    "import numpy as np\n",
    "# 定义cnmda函数\n",
    "def ce(a,m,n):\n",
    "    '''\n",
    "    参数：\n",
    "    a:是一个Numpy数组\n",
    "    m:是第m维数组的索引\n",
    "    n:第m维数组的前n个元素的索引\n",
    "    返回值:\n",
    "    ret: 一个numpy数组\n",
    "    '''\n",
    "    ret = 0\n",
    "    # 请在此添加切片的代码,实现找出多维数组a中第m个数组的前n个元素 并赋值给ret\n",
    "    #********** Begin *********#\n",
    "    ret = a[m,:n]\n",
    "    #********** End **********#\n",
    "    return ret\n",
    "\n",
    "# 引入numpy库\n",
    "import numpy as np\n",
    "# 定义cnmda函数\n",
    "def ce(a,m,n):\n",
    "    '''\n",
    "    参数：\n",
    "    a:是一个Numpy数组\n",
    "    m:是第m维数组的索引\n",
    "    n:第m维数组的前n个元素的索引\n",
    "    返回值:\n",
    "    ret: 一个numpy数组\n",
    "    '''\n",
    "    ret = 0\n",
    "    # 请在此添加切片的代码,实现找出多维数组a中第m个数组的前n个元素 并赋值给ret\n",
    "    #********** Begin *********#\n",
    "    ret = a[m,:n]\n",
    "    #********** End **********#\n",
    "    return ret\n",
    "\n"
   ]
  },
  {
   "cell_type": "markdown",
   "metadata": {},
   "source": [
    "# 第5关：形状操作"
   ]
  },
  {
   "cell_type": "code",
   "execution_count": null,
   "metadata": {
    "vscode": {
     "languageId": "plaintext"
    }
   },
   "outputs": [],
   "source": [
    "import numpy as np\n",
    " \n",
    " \n",
    "def reshape_ndarray(input_data):\n",
    "    '''\n",
    "    将ipnut_data转换成ndarray后将其变形成一位数组并打印\n",
    "    :param input_data: 测试用例，类型为list\n",
    "    :return: None\n",
    "    '''\n",
    " \n",
    "    #********* Begin *********#\n",
    "    a = np.array(input_data)\n",
    "    a = a.reshape((1,-1))\n",
    "    print(a[0,])\n",
    "    #********* End *********#\n"
   ]
  },
  {
   "cell_type": "markdown",
   "metadata": {},
   "source": [
    "# 第6关：Numpy数组的基本运算"
   ]
  },
  {
   "cell_type": "code",
   "execution_count": null,
   "metadata": {
    "vscode": {
     "languageId": "plaintext"
    }
   },
   "outputs": [],
   "source": [
    "# 引入numpy库\n",
    "import numpy as np\n",
    "# 定义opeadd函数\n",
    "def opeadd(m,b,n):\n",
    "    '''\n",
    "    参数：\n",
    "    m:是一个数组\n",
    "    b:是一个列表\n",
    "    n:是列表中的索引\n",
    "    你需要做的是 m+b[n]\n",
    "    返回值:\n",
    "    ret: 一个numpy数组\n",
    "    '''    \n",
    "    ret = 0\n",
    "\n",
    "    #********** Begin *********#\n",
    "    ret = m+b[n]\n",
    "      #********** End **********#\n",
    "\n",
    "    return ret\n",
    "# 定义opemul函数\n",
    "def opemul(m,b,n):\n",
    "    '''\n",
    "    参数：\n",
    "    m:是一个数组\n",
    "    b:是一个列表\n",
    "    n:是列表中的索引\n",
    "    你需要做的是 m*b[n]\n",
    "    返回值:\n",
    "    ret: 一个numpy数组\n",
    "    '''\n",
    "    ret = 0\n",
    "\n",
    "    #********** Begin *********#\n",
    "    ret = m*b[n]\n",
    "    #********** End **********#\n",
    "    return ret\n",
    "\n"
   ]
  },
  {
   "cell_type": "markdown",
   "metadata": {},
   "source": [
    "# 第7关：线性代数"
   ]
  },
  {
   "cell_type": "markdown",
   "metadata": {},
   "source": [
    "from numpy import linalg\n",
    "import numpy as np\n",
    "def student(input_data):\n",
    "    '''\n",
    "    将输入数据筛选性别为男，再进行线性方程求解\n",
    "    :param input_data:类型为`list`的输入数据\n",
    "    :return:类型为`ndarray`\n",
    "    '''\n",
    "    result=[]\n",
    "    # ********* Begin *********#\n",
    "    a = np.array(input_data)\n",
    "    x=[]\n",
    "    y=[]\n",
    "    for i in a:\n",
    "        if i[0]==\"男\":\n",
    "            x.append([int(i[1]),int(i[2])])\n",
    "            y.append([int(i[-1])])\n",
    "    if x==[] and y==[]:\n",
    "        return result\n",
    "    x=np.array(x)\n",
    "    y=np.array(y)\n",
    "    result=linalg.solve(x,y)\n",
    "    # ********* End *********#\n",
    "    return result\n",
    "\n",
    "\n"
   ]
  }
 ],
 "metadata": {
  "language_info": {
   "name": "python"
  }
 },
 "nbformat": 4,
 "nbformat_minor": 2
}
