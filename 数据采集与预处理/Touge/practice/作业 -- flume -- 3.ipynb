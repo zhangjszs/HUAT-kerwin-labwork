{
 "cells": [
  {
   "cell_type": "code",
   "execution_count": null,
   "metadata": {
    "vscode": {
     "languageId": "plaintext"
    }
   },
   "outputs": [],
   "source": [
    "agent1.sources = r1\n",
    "agent1.channels = c1\n",
    "agent1.sinks = k1\n",
    "# 配置Source组件\n",
    "agent1.sources.r1.type = spooldir\n",
    "agent1.sources.r1.spoolDir = /root/mylogs/\n",
    "\n",
    "# 配置Sink组件\n",
    "agent1.sinks.k1.type = hdfs\n",
    "agent1.sinks.k1.hdfs.path = hdfs://localhost:9000/weblog/%y-%m-%d/%H-%M\n",
    "agent1.sinks.k1.hdfs.filePrefix = access_log\n",
    "agent1.sinks.k1.hdfs.maxOpenFiles = 5000\n",
    "agent1.sinks.k1.hdfs.batchSize = 100\n",
    "agent1.sinks.k1.hdfs.fileType = DataStream\n",
    "agent1.sinks.k1.hdfs.writeFormat = Text\n",
    "agent1.sinks.k1.hdfs.rollSize = 102400\n",
    "agent1.sinks.k1.hdfs.rollCount = 1000000\n",
    "agent1.sinks.k1.hdfs.rollInterval = 60\n",
    "agent1.sinks.k1.hdfs.useLocalTimeStamp = true\n",
    "\n",
    "# 设置Channel\n",
    "agent1.channels.c1.type = memory\n",
    "agent1.channels.c1.capacity = 1000\n",
    "agent1.channels.c1.transactionCapacity = 100\n",
    "# 把Source和Sink绑定到Channel上\n",
    "agent1.sources.r1.channels = c1\n",
    "agent1.sinks.k1.channel = c1"
   ]
  },
  {
   "cell_type": "code",
   "execution_count": null,
   "metadata": {
    "vscode": {
     "languageId": "plaintext"
    }
   },
   "outputs": [],
   "source": [
    "# **************************************** Begin **************************************\n",
    "#定义三大组件的名称\n",
    "agent1.sources = source1\n",
    "agent1.sinks = sink1\n",
    "agent1.channels = channel1\n",
    "# 配置Source组件\n",
    "agent1.sources.source1.type = exec\n",
    "agent1.sources.source1.command = tail -F /root/mylogs/log1.txt\n",
    "# 配置Sink组件\n",
    "agent1.sinks.sink1.type = hdfs\n",
    "agent1.sinks.sink1.hdfs.path =hdfs://localhost:9000/weblog/%y-%m-%d/%H-%M\n",
    "agent1.sinks.sink1.hdfs.filePrefix = access_log\n",
    "agent1.sinks.sink1.hdfs.maxOpenFiles = 5000\n",
    "agent1.sinks.sink1.hdfs.batchSize= 100\n",
    "agent1.sinks.sink1.hdfs.fileType = DataStream\n",
    "agent1.sinks.sink1.hdfs.writeFormat =Text\n",
    "agent1.sinks.sink1.hdfs.rollSize = 102400\n",
    "agent1.sinks.sink1.hdfs.rollCount = 1000000\n",
    "agent1.sinks.sink1.hdfs.rollInterval = 60\n",
    "agent1.sinks.sink1.hdfs.useLocalTimeStamp = true\n",
    "# 配置Channel组件\n",
    "agent1.channels.channel1.type = memory\n",
    "agent1.channels.channel1.keep-alive = 120\n",
    "agent1.channels.channel1.capacity = 500000\n",
    "agent1.channels.channel1.transactionCapacity = 600\n",
    "# 把Source和Sink绑定到Channel\n",
    "agent1.sources.source1.channels = channel1\n",
    "agent1.sinks.sink1.channel = channel1\n",
    "\n",
    "\n",
    "# **************************************** End **************************************"
   ]
  }
 ],
 "metadata": {
  "language_info": {
   "name": "python"
  }
 },
 "nbformat": 4,
 "nbformat_minor": 2
}
