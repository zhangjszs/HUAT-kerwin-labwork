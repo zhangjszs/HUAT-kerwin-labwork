{
 "cells": [
  {
   "cell_type": "code",
   "execution_count": null,
   "metadata": {
    "vscode": {
     "languageId": "plaintext"
    }
   },
   "outputs": [],
   "source": [
    "import numpy as np\n",
    "import pandas as pd\n",
    "from pandas import Series,DataFrame\n",
    "# ****************************************** Begin **************************\n",
    "# 1.使用 `Python` 代码，通过 `pandas` 模块，将 `[3,5,6,8,9,2]` 创建一个 `Series` 对象，并且对应的索引为 `[a - b]`。\n",
    "obj2=Series([3,5,6,8,9,2],index=['a','b','c','d','e','f'])\n",
    "print(obj2)\n",
    "# 2.使用 `Python` 代码，通过 `pandas` 模块，对字典 `{'m':4,'n':5,'p':6}` 进行创建 `Series` 数组，设置 `Index` 为 `['m','n','p','a']`。\n",
    "dic={'m':4,'n':5,'p':6}\n",
    "ind=['m','n','p','a']\n",
    "obj4=Series(dic,index=ind)\n",
    "print(obj4)\n",
    "# 3.对第二问创建的数组进行非空检测。\n",
    "print(pd.notnull(obj4))\n",
    "# ****************************************** End **************************"
   ]
  },
  {
   "cell_type": "code",
   "execution_count": null,
   "metadata": {
    "vscode": {
     "languageId": "plaintext"
    }
   },
   "outputs": [],
   "source": [
    "import numpy as np\n",
    "import pandas as pd\n",
    "from pandas import Series,DataFrame\n",
    "# ************************************** Begin ******************************* \n",
    "# 1.使用 `Python` 代码，创建一个 DataFrame  结构数据：\n",
    "data = {'sno':['95001', '95002', '95003', '95004'],\n",
    "    'name':['Xiaoming','Zhangsan','Lisi','Wangwu'],\n",
    "    'sex':['M','F','F','M'],\n",
    "    'age':[22,25,24,23]}\n",
    "frame=DataFrame(data)\n",
    "frame=DataFrame(data,columns=['sno','name','sex','age','grade'],index=['a','b','c','d'])\n",
    "print (frame)\n",
    "# 2.使用 `Python` 代码，对第一问的最后一列添上数据 `93,89,72,84`。\n",
    "frame['grade']=[93,89,72,84]\n",
    "print (frame)\n",
    "# 3.对第二问的结果，增加一个新的列：\n",
    "frame['province']=['ZheJiang','FuJian','Beijing','ShangHai']\n",
    "print (frame)\n",
    "# ************************************** End ******************************* "
   ]
  },
  {
   "cell_type": "code",
   "execution_count": null,
   "metadata": {
    "vscode": {
     "languageId": "plaintext"
    }
   },
   "outputs": [],
   "source": [
    "import numpy as np\n",
    "import pandas as pd\n",
    "from pandas import Series,DataFrame,Index\n",
    "# **************************** Begin ****************************\n",
    "# 1.使用 `Python` 代码，创建一个 DataFrame  结构数据\n",
    "data = {'pop':[2.3,2.6],\n",
    "    'year':[2020,2021]}\n",
    "frame = DataFrame(data)\n",
    "print(frame)\n",
    "# **************************** End ****************************"
   ]
  }
 ],
 "metadata": {
  "language_info": {
   "name": "python"
  }
 },
 "nbformat": 4,
 "nbformat_minor": 2
}
