{
 "cells": [
  {
   "cell_type": "markdown",
   "metadata": {},
   "source": [
    "运行bash文件即可\n",
    "    \n",
    "    ```bash\n",
    "    #!/bin/bash\n",
    "\n",
    "# 设置变量\n",
    "INSTALL_PACKAGE=\"/data/bigfiles/pdi-ce-9.1.0.0-324.zip\"\n",
    "INSTALL_DIR=\"/opt/kettle\"\n",
    "JAVA_HOME=\"/opt/jdk1.8.0_201\"\n",
    "\n",
    "# 创建安装目录\n",
    "mkdir -p $INSTALL_DIR\n",
    "\n",
    "# 复制安装包到 /opt 目录\n",
    "cp $INSTALL_PACKAGE /opt/\n",
    "\n",
    "# 解压安装包到指定目录\n",
    "unzip /opt/pdi-ce-9.1.0.0-324.zip -d $INSTALL_DIR\n",
    "\n",
    "# 修改 /etc/profile 文件，添加必要的别名和环境变量\n",
    "echo \"\n",
    "# Spoon home path\n",
    "alias spoon='cd $INSTALL_DIR/data-integration && ./spoon.sh'\n",
    "alias kettle='cd $INSTALL_DIR/data-integration && ./spoon.sh'\n",
    "alias kitchen='cd $INSTALL_DIR/data-integration && ./kitchen.sh'\n",
    "export OPT='-Dorg.eclipse.swt.browser.XULRunnerPath=/dev/null -Dorg.eclipse.swt.internal.gtk.cairoGraphics=false'\n",
    "SPOON_HOME=$INSTALL_DIR/data-integration\n",
    "KETTLE_HOME=$INSTALL_DIR/data-integration\n",
    "KITCHEN_HOME=$INSTALL_DIR/data-integration\n",
    "export SPOON_HOME KETTLE_HOME KITCHEN_HOME\" >> /etc/profile\n",
    "\n",
    "# 使新的环境变量生效\n",
    "source /etc/profile\n",
    "\n",
    "# 启动 Kettle 服务\n",
    "$INSTALL_DIR/data-integration/spoon.sh &\n",
    "\n",
    "# 检查 Kettle 是否成功启动\n",
    "if [ $? -eq 0 ]; then\n",
    "    echo \"Kettle 服务成功启动！\"\n",
    "else\n",
    "    echo \"Kettle 服务启动失败！\"\n",
    "fi\n",
    "```\n",
    "chmod 777 1.bash\n",
    "sudo ./1.bash\n",
    "```"
   ]
  }
 ],
 "metadata": {
  "language_info": {
   "name": "python"
  }
 },
 "nbformat": 4,
 "nbformat_minor": 2
}
