{
 "cells": [
  {
   "cell_type": "code",
   "execution_count": null,
   "metadata": {
    "vscode": {
     "languageId": "plaintext"
    }
   },
   "outputs": [],
   "source": [
    "# *********************************** Begin ***************************************\n",
    "#设置三大组件\n",
    "agent1.channels = ch1\n",
    "agent1.sinks = HDFS\n",
    "agent1.sources = sql-source\n",
    "#设置Source组件\n",
    "agent1.sources.sql-source.type = org.keedio.flume.source.SQLSource\n",
    "agent1.sources.sql-source.hibernate.connection.url = jdbc:mysql://localhost:3306/school\n",
    "agent1.sources.sql-source.hibernate.connection.user = root  \n",
    "agent1.sources.sql-source.hibernate.connection.password = 123123 \n",
    "agent1.sources.sql-source.hibernate.connection.autocommit = true\n",
    "agent1.sources.sql-source.table = student  \n",
    "agent1.sources.sql-source.run.query.delay=5000\n",
    "agent1.sources.sql-source.status.file.path = /app/flume-1.7.0/\n",
    "agent1.sources.sql-source.status.file.name = sql-source.status\n",
    "#设置Sink组件\n",
    "agent1.sinks.HDFS.type = hdfs\n",
    "agent1.sinks.HDFS.hdfs.path = hdfs://localhost:9000/flume/mysql\n",
    "agent1.sinks.HDFS.hdfs.fileType = DataStream\n",
    "agent1.sinks.HDFS.hdfs.writeFormat = Text\n",
    "agent1.sinks.HDFS.hdfs.rollSize = 268435456\n",
    "agent1.sinks.HDFS.hdfs.rollInterval = 0\n",
    "agent1.sinks.HDFS.hdfs.rollCount = 0\n",
    "#设置Channel\n",
    "agent1.channels.ch1.type = memory\n",
    "#把Source和Sink绑定到Channel\n",
    "agent1.sinks.HDFS.channel = ch1\n",
    "agent1.sources.sql-source.channels = ch1\n",
    "\n",
    "\n",
    "# *********************************** End ***************************************"
   ]
  }
 ],
 "metadata": {
  "language_info": {
   "name": "python"
  }
 },
 "nbformat": 4,
 "nbformat_minor": 2
}
