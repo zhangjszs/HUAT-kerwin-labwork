{
 "cells": [
  {
   "cell_type": "code",
   "execution_count": null,
   "metadata": {
    "vscode": {
     "languageId": "plaintext"
    }
   },
   "outputs": [],
   "source": [
    "import pandas as pd\n",
    "\n",
    "# *********************************** Begin *********************************\n",
    "# 读取数据\n",
    "data = pd.read_csv('food_info.csv')\n",
    "\n",
    "# 找出以“(g)”结尾的列，取前3行数据打印出来；\n",
    "col1 = data.columns.tolist()\n",
    "col2 = []\n",
    "for i in col1:\n",
    "    if i.endswith('(g)'):\n",
    "        col2.append(i)\n",
    "print(data[col2].head(3))\n",
    "\n",
    "# `Iron_(mg)` 列的数据是以 `mg` 为单位的，现在想要该列数据以 `g` 为单位，加入到特征列中；\n",
    "data['Iron_(g)'] = data['Iron_(mg)'] / 1000\n",
    "print(data['Iron_(g)'])\n",
    "\n",
    "# 对 `Lipid_Tot_(g)` 进行归一化操作，列中的每个元素都除以该列的最大值。\n",
    "data['Lipid_Tot_(g)'] = data['Lipid_Tot_(g)'] / data['Lipid_Tot_(g)'].max()\n",
    "\n",
    "print(data['Lipid_Tot_(g)'])\n",
    "# *********************************** End *********************************"
   ]
  }
 ],
 "metadata": {
  "language_info": {
   "name": "python"
  }
 },
 "nbformat": 4,
 "nbformat_minor": 2
}
