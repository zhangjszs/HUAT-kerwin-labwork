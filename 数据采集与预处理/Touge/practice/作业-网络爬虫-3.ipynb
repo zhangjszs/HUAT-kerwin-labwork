{
 "cells": [
  {
   "cell_type": "code",
   "execution_count": null,
   "metadata": {},
   "outputs": [],
   "source": [
    "from bs4 import BeautifulSoup\n",
    "\n",
    "html_doc = \"\"\"\n",
    "<html>\n",
    "<head>\n",
    "<title>BigData Software</title>\n",
    "</head>\n",
    "<body>\n",
    "<p class=\"title\"><b>BigData Software</b></p>\n",
    "<p class=\"bigdata\">There are three famous bigdata softwares; and their names are\n",
    "<a href=\"http://example.com/hadoop\" class=\"software\" id=\"link1\">Hadoop</a>,\n",
    "<a href=\"http://example.com/spark\" class=\"software\" id=\"link2\">Spark</a> and\n",
    "<a href=\"http://example.com/flink\" class=\"software\" id=\"link3\">Flink</a>;\n",
    "and they are widely used in real applications.</p>\n",
    "<p class=\"bigdata\">...</p>\n",
    "</body>\n",
    "</html>\n",
    "\"\"\"\n",
    "\n",
    "# **************************** Begin *********************************\n",
    "soup = BeautifulSoup(html_doc, 'html.parser')\n",
    "\n",
    "print(soup.prettify())\n",
    "# **************************** End *********************************"
   ]
  },
  {
   "cell_type": "code",
   "execution_count": null,
   "metadata": {},
   "outputs": [],
   "source": [
    "html_doc = \"\"\"\n",
    "<html><head><title>BigData Software</title></head>\n",
    "<p class=\"title\"><b>BigData Software</b></p>\n",
    "<p class=\"bigdata\">There are three famous bigdata softwares; and their names are\n",
    "<a href=\"http://example.com/hadoop\" class=\"software\" id=\"link1\">Hadoop</a>,\n",
    "<a href=\"http://example.com/spark\" class=\"software\" id=\"link2\">Spark</a> and\n",
    "<a href=\"http://example.com/flink\" class=\"software\" id=\"link3\">Flink</a>;\n",
    "and they are widely used in real applications.</p>\n",
    "<p class=\"bigdata\">...</p>\n",
    "\"\"\"\n",
    "from bs4 import BeautifulSoup\n",
    "\n",
    "# **************************** Begin *********************************\n",
    "soup = BeautifulSoup(html_doc, 'html.parser')\n",
    "\n",
    "# 获取并输出特定的 a 标签\n",
    "specific_a_tag = soup.find('a', id='link1')\n",
    "print(specific_a_tag)\n",
    "\n",
    "# 获取并输出 title 标签\n",
    "title_tag = soup.find('title')\n",
    "print(title_tag)\n",
    "# **************************** End *********************************\n",
    "# **************************** End *********************************"
   ]
  },
  {
   "cell_type": "code",
   "execution_count": null,
   "metadata": {},
   "outputs": [],
   "source": [
    "html_doc = \"\"\"\n",
    "<html><head><title>BigData Software</title></head>\n",
    "<p class=\"title\"><b>BigData Software</b></p>\n",
    "<p class=\"bigdata\">There are three famous bigdata softwares; and their names are\n",
    "<a href=\"http://example.com/hadoop\" class=\"software\" id=\"link1\">Hadoop</a>,\n",
    "<a href=\"http://example.com/spark\" class=\"software\" id=\"link2\">Spark</a> and\n",
    "<a href=\"http://example.com/flink\" class=\"software\" id=\"link3\">Flink</a>;\n",
    "and they are widely used in real applications.</p>\n",
    "<p class=\"bigdata\">...</p>\n",
    "\"\"\"\n",
    "from bs4 import BeautifulSoup\n",
    "# **************************** Begin *********************************\n",
    "soup = BeautifulSoup(html_doc,\"lxml\")\n",
    "# 输出子标签\n",
    "for child in soup.body.children:\n",
    "    print(child)\n",
    "\n",
    "# **************************** End *********************************"
   ]
  },
  {
   "cell_type": "code",
   "execution_count": null,
   "metadata": {},
   "outputs": [],
   "source": [
    "html_doc = \"\"\"\n",
    "<html><head><title>BigData Software</title></head>\n",
    "<p class=\"title\"><b>BigData Software</b></p>\n",
    "<p class=\"bigdata\">There are three famous bigdata softwares; and their names are\n",
    "<a href=\"http://example.com/hadoop\" class=\"software\" id=\"link1\">Hadoop</a>,\n",
    "<a href=\"http://example.com/spark\" class=\"software\" id=\"link2\">Spark</a> and\n",
    "<a href=\"http://example.com/flink\" class=\"software\" id=\"link3\">Flink</a>;\n",
    "and they are widely used in real applications.</p>\n",
    "<p class=\"bigdata\">...</p>\n",
    "\"\"\"\n",
    "from bs4 import BeautifulSoup\n",
    "# **************************** Begin *********************************\n",
    "soup = BeautifulSoup(html_doc,\"lxml\")\n",
    "# 输出标签\n",
    "print(soup.find_all([\"a\",\"b\"]))"
   ]
  },
  {
   "cell_type": "code",
   "execution_count": null,
   "metadata": {},
   "outputs": [],
   "source": [
    "html_doc = \"\"\"\n",
    "<html><head><title>BigData Software</title></head>\n",
    "<p class=\"title\"><b>BigData Software</b></p>\n",
    "<p class=\"bigdata\">There are three famous bigdata softwares; and their names are\n",
    "<a href=\"http://example.com/hadoop\" class=\"software\" id=\"link1\">Hadoop</a>,\n",
    "<a href=\"http://example.com/spark\" class=\"software\" id=\"link2\">Spark</a> and\n",
    "<a href=\"http://example.com/flink\" class=\"software\" id=\"link3\">Flink</a>;\n",
    "and they are widely used in real applications.</p>\n",
    "<p class=\"bigdata\">...</p>\n",
    "\"\"\"\n",
    "from bs4 import BeautifulSoup\n",
    "# **************************** Begin *********************************\n",
    "\n",
    "# 输出标签\n",
    "soup = BeautifulSoup(html_doc,\"lxml\")\n",
    "print(soup.select('#link1'))\n",
    "# **************************** End *********************************"
   ]
  }
 ],
 "metadata": {
  "kernelspec": {
   "display_name": "Python 3",
   "language": "python",
   "name": "python3"
  },
  "language_info": {
   "name": "python",
   "version": "3.12.4"
  }
 },
 "nbformat": 4,
 "nbformat_minor": 2
}
