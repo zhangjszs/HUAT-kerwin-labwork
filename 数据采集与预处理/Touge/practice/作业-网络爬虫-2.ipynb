{
 "cells": [
  {
   "cell_type": "code",
   "execution_count": null,
   "metadata": {},
   "outputs": [],
   "source": [
    "import requests\n",
    "# ************************ Begin ***************************\n",
    "# 请求的页面\n",
    "base_url = 'http://httpbin.org'\n",
    "# 设置 param\n",
    "param_data = {'user':'xmu','password':'123456'}\n",
    "# 请求页面\n",
    "response = requests.get(base_url+'/get',params=param_data)\n",
    "# 打印拼接的 url\n",
    "print(response.url)\n",
    "# 打印请求码\n",
    "print(response.status_code)\n",
    "200\n",
    "# ************************ End ***************************"
   ]
  },
  {
   "cell_type": "code",
   "execution_count": null,
   "metadata": {},
   "outputs": [],
   "source": [
    "import requests\n",
    "# ******************************* Begin *********************************\n",
    "\n",
    "# 创建头部信息\n",
    "headers={\"user-agent\":\"Mozilla/5.0 (Windows NT 10.0; Win64; x64) AppleWebKit/537.36 (KHTML, like Gecko) Chrome/128.0.0.0 Safari/537.36 Edg/128.0.0.0\"}\n",
    "\n",
    "# 打印页面\n",
    "response = requests.get(\"https://httpbin.org\", headers=headers)\n",
    "print(response.content)\n",
    "# ******************************* End *********************************"
   ]
  },
  {
   "cell_type": "code",
   "execution_count": null,
   "metadata": {},
   "outputs": [],
   "source": [
    "import requests\n",
    "from requests.exceptions import ReadTimeout,ConnectTimeout\n",
    "# ******************************* Begin ************************************\n",
    "try:\n",
    "    response=requests.get(\"http://httpbin.org/\",timeout=0.2)\n",
    "    print(response.status_code)\n",
    "except ReadTimeout :\n",
    "    print('Timeout')\n",
    "except ConnectTimeout:\n",
    "    print('Timeout')\n",
    "# ******************************* End ************************************"
   ]
  }
 ],
 "metadata": {
  "language_info": {
   "name": "python"
  }
 },
 "nbformat": 4,
 "nbformat_minor": 2
}
