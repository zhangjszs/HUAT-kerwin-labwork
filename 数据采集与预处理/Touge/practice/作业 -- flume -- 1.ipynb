{
 "cells": [
  {
   "cell_type": "markdown",
   "metadata": {},
   "source": [
    "将命令行写为bash文件，直接运行即可。\n",
    "\n",
    "```bash\n",
    "#!/bin/bash\n",
    "\n",
    "# 定义变量\n",
    "FLUME_TAR_FILE=\"/data/bigfiles/apache-flume-1.9.0-bin.tar.gz\"\n",
    "FLUME_INSTALL_DIR=\"/opt\"\n",
    "JAVA_HOME=\"/opt/jdk1.8.0_201\"\n",
    "\n",
    "# 检查是否具有 root 权限\n",
    "if [ \"$(id -u)\" -ne 0 ]; then\n",
    "  echo \"Please run as root or use sudo.\"\n",
    "  exit 1\n",
    "fi\n",
    "\n",
    "# 复制 Flume 安装包到 /opt 目录\n",
    "cp \"$FLUME_TAR_FILE\" \"$FLUME_INSTALL_DIR\"\n",
    "\n",
    "# 进入 /opt 目录并解压安装包\n",
    "cd \"$FLUME_INSTALL_DIR\" || exit\n",
    "tar -xzf apache-flume-1.9.0-bin.tar.gz\n",
    "\n",
    "# 设置 JAVA_HOME 环境变量\n",
    "export JAVA_HOME=\"$JAVA_HOME\"\n",
    "\n",
    "# 验证 Flume 安装\n",
    "cd apache-flume-1.9.0-bin\n",
    "if bin/flume-ng version > /dev/null 2>&1; then\n",
    "  echo \"Flume installation successful.\"\n",
    "  bin/flume-ng version\n",
    "else\n",
    "  echo \"Flume installation failed.\"\n",
    "  exit 1\n",
    "fi\n",
    "\n",
    "# 如果希望永久设置 JAVA_HOME，可以取消注释以下两行\n",
    "#echo 'export JAVA_HOME=/opt/jdk1.8.0_201' >> ~/.bashrc\n",
    "#source ~/.bashrc\n",
    "\n",
    "echo \"Flume installation and setup completed successfully.\"\n",
    "```\n",
    "vim install_flume.sh 然后将上面的代码复制进去，保存退出。\n",
    "在终端中执行bash install_flume.sh即可。"
   ]
  },
  {
   "cell_type": "code",
   "execution_count": null,
   "metadata": {
    "vscode": {
     "languageId": "plaintext"
    }
   },
   "outputs": [],
   "source": [
    "# *********************************** Begin ******************************\n",
    "# 设置Agent上的各个组件名称\n",
    "a1.sources = r1\n",
    "a1.sinks = k1\n",
    "a1.channels = c1\n",
    " \n",
    "# 配置Source\n",
    "a1.sources.r1.type = netcat\n",
    "a1.sources.r1.bind = localhost\n",
    "a1.sources.r1.port = 44444\n",
    " \n",
    "# 配置Sink\n",
    "a1.sinks.k1.type = logger \n",
    " \n",
    "# 配置Channel\n",
    "a1.channels.c1.type = memory\n",
    "a1.channels.c1.capacity = 1000\n",
    "a1.channels.c1.transactionCapacity = 100\n",
    " \n",
    "# 把Source和Sink绑定到Channel上\n",
    "a1.sources.r1.channels = c1\n",
    "a1.sinks.k1.channel = c1\n",
    "# *********************************** End ******************************"
   ]
  },
  {
   "cell_type": "code",
   "execution_count": null,
   "metadata": {
    "vscode": {
     "languageId": "plaintext"
    }
   },
   "outputs": [],
   "source": [
    "# ******************************* Begin ***************************\n",
    "#定义三大组件名称\n",
    "a1.sources = r1\n",
    "a1.channels = c1\n",
    "a1.sinks = k1\n",
    " \n",
    "#定义Source\n",
    "a1.sources.r1.type = spooldir\n",
    "a1.sources.r1.spoolDir = '/root/mylogs'\n",
    " \n",
    "#定义Channel\n",
    "a1.channels.c1.type = memory\n",
    "a1.channels.c1.capacity = 10000\n",
    "a1.channels.c1.transactionCapacity = 100\n",
    " \n",
    "#定义Sink\n",
    "a1.sinks.k1.type = logger\n",
    " \n",
    "#组装Source、Channel、Sink\n",
    "a1.sources.r1.channels = c1\n",
    "a1.sinks.k1.channel = c1\n",
    "\n",
    "\n",
    "# ******************************* End ***************************"
   ]
  }
 ],
 "metadata": {
  "language_info": {
   "name": "python"
  }
 },
 "nbformat": 4,
 "nbformat_minor": 2
}
