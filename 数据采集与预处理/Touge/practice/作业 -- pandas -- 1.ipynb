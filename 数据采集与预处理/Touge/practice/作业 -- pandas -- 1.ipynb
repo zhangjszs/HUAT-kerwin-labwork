{
 "cells": [
  {
   "cell_type": "code",
   "execution_count": null,
   "metadata": {},
   "outputs": [],
   "source": [
    "import numpy as np# ********************************** Begin **********************************\n",
    "# 1.使用 `Python` 代码，通过 `Numpy` 模块，创建一个 `[2 X 3  ]` 的全一矩阵。\n",
    "a = np.ones([2,3],int)\n",
    "print(a)\n",
    "# 2.使用 `Python` 代码，通过 `Numpy` 模块，将 `[[1,2,3],[4,5,6]]` 这个矩阵和第一问创建的全一矩阵相加。\n",
    "b= np.array([[1,2,3],[4,5,6]])\n",
    "print(a+b)\n",
    "# ********************************** End **********************************"
   ]
  }
 ],
 "metadata": {
  "kernelspec": {
   "display_name": "Python 3",
   "language": "python",
   "name": "python3"
  },
  "language_info": {
   "codemirror_mode": {
    "name": "ipython",
    "version": 3
   },
   "file_extension": ".py",
   "mimetype": "text/x-python",
   "name": "python",
   "nbconvert_exporter": "python",
   "pygments_lexer": "ipython3",
   "version": "3.12.4"
  }
 },
 "nbformat": 4,
 "nbformat_minor": 2
}
