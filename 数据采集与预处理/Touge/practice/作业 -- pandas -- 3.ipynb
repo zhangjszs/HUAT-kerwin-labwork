{
 "cells": [
  {
   "cell_type": "code",
   "execution_count": null,
   "metadata": {
    "vscode": {
     "languageId": "plaintext"
    }
   },
   "outputs": [],
   "source": [
    "import numpy as np\n",
    "import pandas as pd\n",
    "from pandas import Series,DataFrame\n",
    "# ********************************** Begin *******************************\n",
    "# 1.创建一个 `DataFrame` 对象，计算每列的和，默认排除 `NaN`；计算每行的平均值，`NaN` 参与运算。\n",
    "df=DataFrame([[1.3,np.nan],[6.2,-3.4],[np.nan,np.nan],[0.65,-1.4]],columns=['one','two'])\n",
    "print(df.sum())\n",
    "print(df.mean(axis=1,skipna=False))\n",
    "# 2.创建一个 `Series` 对象，统计 `Series` 中重复值出现的次数,默认是按出现次数降序排序。\n",
    "s = Series([3,3,1,2,4,3,4,6,5,6])\n",
    "print(s.value_counts())\n",
    "# ********************************** End *******************************"
   ]
  }
 ],
 "metadata": {
  "language_info": {
   "name": "python"
  }
 },
 "nbformat": 4,
 "nbformat_minor": 2
}
