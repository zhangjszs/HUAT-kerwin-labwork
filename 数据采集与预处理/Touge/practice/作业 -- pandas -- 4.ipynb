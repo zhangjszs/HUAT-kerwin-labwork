{
 "cells": [
  {
   "cell_type": "code",
   "execution_count": null,
   "metadata": {
    "vscode": {
     "languageId": "plaintext"
    }
   },
   "outputs": [],
   "source": [
    "import pandas as pd\n",
    "import numpy as np\n",
    "from pandas import Series,DataFrame\n",
    "# *************************************** Begin *********************************\n",
    "# 1.将行标签重新设置为 `[a,b,c]`，并使用 0填充缺失值。\n",
    "df = pd.DataFrame([[1,3,4],[2,6,6],[5,2,8]], index=['a', 'c', 'e'],columns=['one','two', 'three'])\n",
    "df = df.reindex(['a', 'b', 'c'], fill_value=0)\n",
    "print(df)\n",
    "# *************************************** End *********************************"
   ]
  }
 ],
 "metadata": {
  "language_info": {
   "name": "python"
  }
 },
 "nbformat": 4,
 "nbformat_minor": 2
}
