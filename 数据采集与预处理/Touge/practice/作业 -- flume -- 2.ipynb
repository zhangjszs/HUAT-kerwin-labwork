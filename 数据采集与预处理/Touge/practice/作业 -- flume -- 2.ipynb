{
 "cells": [
  {
   "cell_type": "code",
   "execution_count": null,
   "metadata": {
    "vscode": {
     "languageId": "plaintext"
    }
   },
   "outputs": [],
   "source": [
    "# ************************ Begin ***********************\n",
    "a1.sources = r1\n",
    "a1.sinks = k1\n",
    "a1.channels = c1\n",
    "# source\n",
    "a1.sources.r1.type = netcat\n",
    "a1.sources.r1.bind = localhost\n",
    "a1.sources.r1.port = 44444\n",
    "# sink\n",
    "a1.sinks.k1.type = org.apache.flume.sink.kafka.KafkaSink\n",
    "a1.sinks.k1.kafka.topic = test\n",
    "a1.sinks.k1.kafka.bootstrap.servers = localhost:9092\n",
    "a1.sinks.k1.kafka.flumeBatchSize = 20\n",
    "a1.sinks.k1.kafka.producer.acks = 1\n",
    "a1.sinks.k1.kafka.producer.linger.ms = 1\n",
    "a1.sinks.k1.kafka.producer.compression.type = snappy\n",
    "# channel\n",
    "a1.channels.c1.type = memory\n",
    "a1.channels.c1.capacity = 1000\n",
    "a1.channels.c1.transactionCapacity = 100\n",
    "# Bind the source and sink to the channel\n",
    "a1.sources.r1.channels = c1\n",
    "a1.sinks.k1.channel = c1\n",
    "# ************************ End ***********************"
   ]
  }
 ],
 "metadata": {
  "language_info": {
   "name": "python"
  }
 },
 "nbformat": 4,
 "nbformat_minor": 2
}
