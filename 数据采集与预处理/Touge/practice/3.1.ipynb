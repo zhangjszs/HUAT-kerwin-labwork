{
 "cells": [
  {
   "cell_type": "code",
   "execution_count": null,
   "metadata": {},
   "outputs": [],
   "source": [
    "import urllib.parse\n",
    "import urllib.request\n",
    "# ************************  Begin  ***************************\n",
    "# 1.指定url\n",
    "url = 'https://fanyi.baidu.com/sug'\n",
    "# 2.发起POST请求之前，要处理POST请求携带的参数\n",
    "# 2.1 将POST请求封装到字典\n",
    "data = {'kw':'苹果',}\n",
    "# 2.2 使用parse模块中的urlencode(返回值类型是字符串类型)进行编码处理\n",
    "data = urllib.parse.urlencode(data)\n",
    "# 将步骤2.2的编码结果转换成byte类型\n",
    "data = data.encode\n",
    "# 3.发起POST请求:urlopen函数的data参数表示的就是经过处理之后的POST请求携带的参数\n",
    "response = urllib.request.urlopen(url,data)\n",
    "response = response.read()\n",
    "response\n",
    "# ************************  End  ***************************"
   ]
  },
  {
   "cell_type": "code",
   "execution_count": null,
   "metadata": {},
   "outputs": [],
   "source": [
    "import urllib3\n",
    "# ************************  Begin  **import urllib3\n",
    "# ************************  Begin  ***************************\n",
    "import re\n",
    "http = urllib3.PoolManager()\n",
    "response = http.request('POST','https://fanyi.baidu.com/sug',fields={'kw':'苹果',})\n",
    "\n",
    "response_data = response.data.decode('utf-8')\n",
    "\n",
    "response_data = re.sub('\"logid\":\\d+','',response_data)\n",
    "\n",
    "print(response_data)\n",
    "\n",
    "# ************************  End  ****************************************************"
   ]
  },
  {
   "cell_type": "code",
   "execution_count": null,
   "metadata": {},
   "outputs": [],
   "source": [
    "\n",
    "# *********************** Begin **********************************\n",
    "#导入模块\n",
    "\n",
    "#表单参数\n",
    "\n",
    "#对需要爬取的网页发送请求\n",
    "\n",
    "#以字节流形式打印网页源码\n",
    "\n",
    "# *********************** End *********************************\n",
    "import requests\n",
    "# *********************** Begin **********************************\n",
    "import re\n",
    "#导入模块\n",
    "import requests\n",
    "#表单参数\n",
    "data = {'kw':'苹果',}\n",
    "#对需要爬取的网页发送请求\n",
    "response = requests.post('https://fanyi.baidu.com/sug',data)\n",
    "#以字节流形式打印网页源码\n",
    "\n",
    "response_data = response.content.decode('utf-8')\n",
    "\n",
    "response_data = re.sub('\"logid\":\\d+','',response_data)\n",
    "print(response_data)\n",
    "# *********************** End **********************************"
   ]
  }
 ],
 "metadata": {
  "language_info": {
   "name": "python"
  }
 },
 "nbformat": 4,
 "nbformat_minor": 2
}
