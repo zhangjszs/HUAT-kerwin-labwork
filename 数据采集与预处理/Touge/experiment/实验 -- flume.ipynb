{
 "cells": [
  {
   "cell_type": "code",
   "execution_count": null,
   "metadata": {
    "vscode": {
     "languageId": "plaintext"
    }
   },
   "outputs": [],
   "source": [
    "# *********************************** Begin ***************************************\n",
    "#设置名称\n",
    "a1.sources=r1\n",
    "a1.sinks=k1\n",
    "a1.channels=c1\n",
    "#配置Source\n",
    "a1.sources.r1.type=org.keedio.flume.source.SQLSource\n",
    "a1.sources.r1.hibernate.connection.url=jdbc:mysql://localhost:3306/school\n",
    "a1.sources.r1.hibernate.connection.user=root\n",
    "a1.sources.r1.hibernate.connection.password=123123\n",
    "a1.sources.r1.hibernate.connection.autocommit=true\n",
    "a1.sources.r1.table=student\n",
    "a1.sources.r1.run.query.delay=5000\n",
    "a1.sources.r1.status.file.path=/app/flume-1.7.0/\n",
    "a1.sources.r1.status.file.name=a1.status\n",
    "#配置Sink\n",
    "a1.sinks.k1.type=logger\n",
    "#配置channels\n",
    "a1.channels.c1.type=memory\n",
    "#绑定sink source到channels上\n",
    "a1.sources.r1.channels=c1\n",
    "a1.sinks.k1.channel=c1\n",
    "# *********************************** End ***************************************"
   ]
  },
  {
   "cell_type": "code",
   "execution_count": null,
   "metadata": {
    "vscode": {
     "languageId": "plaintext"
    }
   },
   "outputs": [],
   "source": [
    "# ********************************** Begin ********************************\n",
    "#设置名称\n",
    "a1.sources=r1\n",
    "a1.sinks=k1\n",
    "a1.channels=c1\n",
    "#配置Source\n",
    "a1.sources.r1.type = org.apache.flume.source.kafka.KafkaSource\n",
    "a1.sources.r1.batchSize = 500\n",
    "a1.sources.r1.batchDurationMillis = 2000\n",
    "a1.sources.r1.kafka.bootstrap.servers = localhost:9092\n",
    "a1.sources.r1.kafka.topics = flume\n",
    "#配置Sink\n",
    "a1.sinks.k1.type = hdfs\n",
    "a1.sinks.k1.hdfs.path = hdfs://localhost:9000/fromkafka/%Y%m%d/\n",
    "a1.sinks.k1.hdfs.filePrefix = kafka_log\n",
    "a1.sinks.k1.hdfs.maxOpenFiles=5000\n",
    "a1.sinks.k1.hdfs.fileType = DataStream\n",
    "a1.sinks.k1.hdfs.batchSize = 100\n",
    "a1.sinks.k1.hdfs.writeFormat=Text\n",
    "a1.sinks.k1.hdfs.rollInterval = 60\n",
    "a1.sinks.k1.hdfs.rollSize = 102400\n",
    "a1.sinks.k1.hdfs.rollCount = 100000\n",
    "a1.sinks.k1.hdfs.round = true\n",
    "a1.sinks.k1.hdfs.roundValue = 10\n",
    "a1.sinks.k1.hdfs.roundUnit = minute\n",
    "a1.sinks.k1.hdfs.useLocalTimeStamp = true\n",
    "#配置channels\n",
    "a1.channels.c1.type=memory\n",
    "a1.channels.c1.keep-alive=120\n",
    "a1.channels.c1.capacity=500000\n",
    "a1.channels.c1.transactionCapacity=600\n",
    "#绑定sink source到channels上\n",
    "a1.sources.r1.channels=c1\n",
    "a1.sinks.k1.channel=c1\n",
    "# *********************************** End *********************************"
   ]
  },
  {
   "cell_type": "code",
   "execution_count": null,
   "metadata": {
    "vscode": {
     "languageId": "plaintext"
    }
   },
   "outputs": [],
   "source": [
    "# ************************************ Begin ************************************\n",
    "#设置名称\n",
    "a1.sources=r1\n",
    "a1.sinks=k1\n",
    "a1.channels=c1\n",
    "#配置Source\n",
    "a1.sources.r1.type=spooldir\n",
    "a1.sources.r1.spoolDir=/root/mylogs/\n",
    "#配置Sink\n",
    "a1.sinks.k1.type = file_roll\n",
    "a1.sinks.k1.channel = c1\n",
    "a1.sinks.k1.sink.directory = /root/backup\n",
    "#配置channels\n",
    "a1.channels.c1.type=memory\n",
    "a1.channels.c1.capacity=1000\n",
    "a1.channels.c1.transactionCapacity=100\n",
    "#绑定sink source到channels上\n",
    "a1.sources.r1.channels=c1\n",
    "a1.sinks.k1.channel=c1\n",
    "# ************************************ End ************************************"
   ]
  }
 ],
 "metadata": {
  "language_info": {
   "name": "python"
  }
 },
 "nbformat": 4,
 "nbformat_minor": 2
}
