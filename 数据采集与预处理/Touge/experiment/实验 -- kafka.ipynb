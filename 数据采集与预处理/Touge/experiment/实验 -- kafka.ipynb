{
 "cells": [
  {
   "cell_type": "code",
   "execution_count": null,
   "metadata": {
    "vscode": {
     "languageId": "plaintext"
    }
   },
   "outputs": [],
   "source": [
    "from kafka import KafkaConsumer\n",
    "import json\n",
    "\n",
    "# 创建Kafka消费者\n",
    "consumer = KafkaConsumer('mysql_topic',\n",
    "                         bootstrap_servers=['0.0.0.0:9092'],\n",
    "                         auto_offset_reset='earliest',\n",
    "                         value_deserializer=lambda x: json.loads(x.decode('utf-8')))\n",
    "\n",
    "# 计数器，输出两条数据\n",
    "count = 0\n",
    "\n",
    "# 遍历数据\n",
    "for message in consumer:\n",
    "    print(message.value)\n",
    "    count += 1\n",
    "    if count != 2:\n",
    "        continue\n",
    "    else:\n",
    "        break"
   ]
  },
  {
   "cell_type": "code",
   "execution_count": null,
   "metadata": {
    "vscode": {
     "languageId": "plaintext"
    }
   },
   "outputs": [],
   "source": [
    "from kafka import KafkaProducer\n",
    "import json\n",
    "import pymysql.cursors\n",
    "\n",
    "# ********************************************* Begin *********************************************\n",
    "\n",
    "# 连接 Kafka\n",
    "producer = KafkaProducer(\n",
    "    bootstrap_servers=['0.0.0.0:9092'],\n",
    "    value_serializer=lambda v: json.dumps(v).encode('utf-8')\n",
    ")\n",
    "\n",
    "# 连接 MySQL 数据库\n",
    "connection = pymysql.connect(\n",
    "    host='0.0.0.0',\n",
    "    user='root',\n",
    "    password='123123',\n",
    "    database='school',\n",
    "    charset='utf8mb4',\n",
    "    cursorclass=pymysql.cursors.DictCursor\n",
    ")\n",
    "\n",
    "try:\n",
    "    with connection.cursor() as cursor:\n",
    "        # 获取数据\n",
    "        sql = \"SELECT sno, sname, ssex, sage FROM student\"\n",
    "        cursor.execute(sql)\n",
    "        results = cursor.fetchall()\n",
    "\n",
    "        # 遍历数据，将每条记录发送到 Kafka\n",
    "        for row in results:\n",
    "            # 映射字段名称，生成新的 JSON 格式\n",
    "            mapped_row = {\n",
    "                'sno': row['sno'],\n",
    "                'name': row['sname'],\n",
    "                'sex': row['ssex'],\n",
    "                'age': row['sage']\n",
    "            }\n",
    "            # 发送到 Kafka Topic 'mysql_topic'\n",
    "            producer.send('mysql_topic', mapped_row)\n",
    "            print(f\"Sent to Kafka: {mapped_row}\")\n",
    "\n",
    "        # 强制刷新缓冲区，将所有消息推送到 Kafka\n",
    "        producer.flush()\n",
    "\n",
    "finally:\n",
    "    # 关闭 MySQL 连接\n",
    "    connection.close()\n",
    "\n",
    "# ********************************************* End *********************************************"
   ]
  },
  {
   "cell_type": "code",
   "execution_count": null,
   "metadata": {
    "vscode": {
     "languageId": "plaintext"
    }
   },
   "outputs": [],
   "source": [
    "from kafka import KafkaConsumer, TopicPartition, OffsetAndMetadata\n",
    "import json\n",
    "\n",
    "# *************************************** Begin *****************************************\n",
    "class Consumer():\n",
    "    def __init__(self):\n",
    "        # 配置 Kafka\n",
    "        self.topic = 'json_topic'\n",
    "        self.bootstrap_servers = '0.0.0.0:9092'\n",
    "        self.consumer = None\n",
    "\n",
    "    def get_connect(self):\n",
    "        # 连接 Kafka\n",
    "        self.consumer = KafkaConsumer(\n",
    "            bootstrap_servers=self.bootstrap_servers,\n",
    "            enable_auto_commit=False,  # 关闭自动提交偏移量\n",
    "            auto_offset_reset='earliest',  # 从最早的消息开始读取\n",
    "            value_deserializer=lambda x: json.loads(x.decode('utf-8'))  # 反序列化 JSON\n",
    "        )\n",
    "        # 订阅主题\n",
    "        self.consumer.subscribe([self.topic])\n",
    "\n",
    "    def beginConsumer(self): \n",
    "        # 设置偏移量\n",
    "        now_offset = 0 \n",
    "        while True:\n",
    "            # 获取并输出数据\n",
    "            for message in self.consumer:\n",
    "                print(f\"接收到的数据: {message.value}\")\n",
    "                \n",
    "                # 手动提交偏移量\n",
    "                topic_partition = TopicPartition(self.topic, message.partition)\n",
    "                offset = OffsetAndMetadata(message.offset + 1, None)\n",
    "                self.consumer.commit({topic_partition: offset})\n",
    "                \n",
    "                # 消费一条数据后退出循环\n",
    "                break\n",
    "            break\n",
    "\n",
    "        self.consumer.close()\n",
    "\n",
    "# *************************************** End *****************************************\n",
    "\n",
    "c = Consumer()\n",
    "c.get_connect()\n",
    "c.beginConsumer()"
   ]
  },
  {
   "cell_type": "code",
   "execution_count": null,
   "metadata": {
    "vscode": {
     "languageId": "plaintext"
    }
   },
   "outputs": [],
   "source": [
    "from kafka import KafkaProducer\n",
    "import json  # 引入模块\n",
    "\n",
    "# ********************************************* Begin ************************************\n",
    "\n",
    "# 打开一个json文件\n",
    "with open('data.json', 'r') as f:\n",
    "    data = json.load(f)  # 转换为 Python 对象\n",
    "\n",
    "# 连接 Kafka\n",
    "producer = KafkaProducer(\n",
    "    bootstrap_servers='0.0.0.0:9092',  # Kafka 主机地址\n",
    "    value_serializer=lambda v: json.dumps(v).encode('utf-8')  # 序列化为 JSON 并使用 utf-8 编码\n",
    ")\n",
    "\n",
    "# 发送数据到 Kafka\n",
    "producer.send('json_topic', data)\n",
    "\n",
    "# 打印输出发送的数据\n",
    "print(f\"发送的数据: {data}\")\n",
    "\n",
    "# 确保所有消息已发送\n",
    "producer.flush()\n",
    "\n",
    "# 关闭生产者\n",
    "producer.close()\n",
    "\n",
    "# ********************************************* End ************************************"
   ]
  },
  {
   "cell_type": "markdown",
   "metadata": {},
   "source": [
    "生产者程序 commit_producer.py、消费者程序 commit_consumer.py。\n",
    "两道题代码块一是生产者程序，二是消费者程序。"
   ]
  }
 ],
 "metadata": {
  "language_info": {
   "name": "python"
  }
 },
 "nbformat": 4,
 "nbformat_minor": 2
}
