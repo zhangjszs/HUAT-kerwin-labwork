{
 "cells": [
  {
   "cell_type": "code",
   "execution_count": null,
   "metadata": {
    "vscode": {
     "languageId": "plaintext"
    }
   },
   "outputs": [],
   "source": [
    "import pandas as pd\n",
    "import numpy as np\n",
    "from pandas import DataFrame, Series\n",
    "\n",
    "language = Series([\"Python\", \"C\", \"Scala\", \"Java\", \"GO\", \"Scala\", \"SQL\", \"PHP\", \"Python\"])\n",
    "\n",
    "score = Series([95, 98, 99, 78, 69, 88, 90, 92, 100])\n",
    "df = DataFrame({\n",
    "  'language': language,\n",
    "  'score': score\n",
    "})\n",
    "\n",
    "print(df.head(4))\n",
    "\n",
    "print(df[df.language == 'Python'])\n",
    "\n",
    "df.sort_values('score', inplace = True)\n",
    "print(df)\n"
   ]
  },
  {
   "cell_type": "code",
   "execution_count": null,
   "metadata": {
    "vscode": {
     "languageId": "plaintext"
    }
   },
   "outputs": [],
   "source": [
    "import pandas as pd\n",
    "\n",
    "df = pd.read_csv('/data/workspace/myshixun/step2/drinks.csv')\n",
    "print(df.loc[df.continent.isnull()].index)\n",
    "\n",
    "df = df.fillna('NA')\n",
    "\n",
    "df = pd.read_csv('/data/workspace/myshixun/step2/drinks.csv', keep_default_na = False)\n",
    "\n",
    "mean_consumer = df.groupby('continent')[['beer_servings', 'spirit_servings', 'wine_servings']].mean()\n",
    "print(mean_consumer)\n",
    "\n",
    "print(df.iloc[df.beer_servings.argmax(), 0])\n",
    "\n",
    "print(df.iloc[df.spirit_servings.argmax(), 0])\n",
    "\n",
    "print(df.iloc[df.wine_servings.argmax(), 0])\n"
   ]
  },
  {
   "cell_type": "code",
   "execution_count": null,
   "metadata": {
    "vscode": {
     "languageId": "plaintext"
    }
   },
   "outputs": [],
   "source": [
    "import matplotlib\n",
    "import pandas as pd\n",
    "import numpy as np\n",
    "matplotlib.use(\"Agg\")\n",
    "import matplotlib.pyplot as plt\n",
    "def student(input_data,input_data1):\n",
    "    # ********* Begin *********#\n",
    "    # 1.用 `pandas` 将历史价格表中的数据读取为 `DataFrame`，并查看各个列的数据类型。在读取数据时，`pandas` 是否将表中的日期字段自动读取为日期类型？若否，则将其转换为日期类型；\n",
    "    df = pd.read_csv('/data/workspace/myshixun/Task3/DOGE-USD.csv')\n",
    "    # 2.该 `DataFrame` 中是否存在缺失值？若是，用前一交易日的数据填充缺失值；\n",
    "    df = df.fillna(method='pad')\n",
    "    # 3.分别输出狗狗币价格的最高值与最低值，并分别输出达到最高值与最低值的日期；\n",
    "    print(df.High.max())\n",
    "    print(df.Low.min())\n",
    "    print(df['Date'].loc[df['High'].argmax()])\n",
    "    print(df['Date'].loc[df['Low'].argmin()])\n",
    "    # 4.画出狗狗币每天最高价格的折线图（横轴为日期）。\n",
    "    plt.figure(figsize=(20,5))\n",
    "    df['Date'] = pd.to_datetime(df['Date'])\n",
    "    plt.plot(df.Date, df.High)\n",
    "    plt.savefig(\"Task3/img/T1.png\")\n",
    "    plt.show()\n",
    "    # ********* End *********#"
   ]
  }
 ],
 "metadata": {
  "language_info": {
   "name": "python"
  }
 },
 "nbformat": 4,
 "nbformat_minor": 2
}
