{
 "cells": [
  {
   "cell_type": "code",
   "execution_count": 1,
   "metadata": {},
   "outputs": [
    {
     "name": "stdout",
     "output_type": "stream",
     "text": [
      " ('h', 'e', 'l', 'r', 'n') : 3\n",
      " ('o', 'w', 'a', 'g') : 2\n",
      " (' ',) : 8\n",
      " ('d', ',', 'b', 'y', 'k', 'z', '.') : 1\n",
      " ('t', 'i', 's') : 4\n"
     ]
    }
   ],
   "source": [
    "def counts(input_string):\n",
    "    char_count = {}\n",
    "    for char in input_string:\n",
    "        if char in char_count:\n",
    "            char_count[char] += 1\n",
    "        else:\n",
    "            char_count[char] = 1\n",
    "\n",
    "    grouped_counts = {}\n",
    "    for char, count in char_count.items():\n",
    "        if count in grouped_counts:\n",
    "            grouped_counts[count].append(char)\n",
    "        else:\n",
    "            grouped_counts[count] = [char]\n",
    "    \n",
    "    formatted_result = {}\n",
    "    for count, chars in grouped_counts.items():\n",
    "        formatted_result[tuple(chars)] = count\n",
    "    \n",
    "    return formatted_result\n",
    "\n",
    "input_str = \"hello world,this is a test string by kerwin zhang.\"\n",
    "result = counts(input_str)\n",
    "for count, chars in result.items():\n",
    "    print(f\" {count} : {chars}\")"
   ]
  }
 ],
 "metadata": {
  "kernelspec": {
   "display_name": "Python 3",
   "language": "python",
   "name": "python3"
  },
  "language_info": {
   "codemirror_mode": {
    "name": "ipython",
    "version": 3
   },
   "file_extension": ".py",
   "mimetype": "text/x-python",
   "name": "python",
   "nbconvert_exporter": "python",
   "pygments_lexer": "ipython3",
   "version": "3.12.4"
  }
 },
 "nbformat": 4,
 "nbformat_minor": 2
}
