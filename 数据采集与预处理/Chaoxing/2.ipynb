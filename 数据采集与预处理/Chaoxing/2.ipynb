{
 "cells": [
  {
   "cell_type": "code",
   "execution_count": 1,
   "metadata": {},
   "outputs": [
    {
     "name": "stdout",
     "output_type": "stream",
     "text": [
      "原始DataFrame:\n",
      "    A   B   C   D   E\n",
      "a  44  47  64  67  67\n",
      "b   9  83  21  36  87\n",
      "c  70  88  88  12  58\n",
      "d  65  39  87  46  88\n",
      "\n",
      "修改后的DataFrame:\n",
      "    A   B   C   D   E\n",
      "a  44  47  50  50  50\n",
      "b   9  50  21  36  50\n",
      "c  50  50  50  12  50\n",
      "d  50  39  50  46  50\n"
     ]
    }
   ],
   "source": [
    "import pandas as pd\n",
    "import numpy as np\n",
    "\n",
    "# 设置随机种子以确保结果可复现\n",
    "np.random.seed(0)\n",
    "\n",
    "# 创建一个4x5的数据框，值为0到100之间的随机整数\n",
    "data = np.random.randint(0, 101, (4, 5))\n",
    "index = ['a', 'b', 'c', 'd']\n",
    "columns = ['A', 'B', 'C', 'D', 'E']\n",
    "df = pd.DataFrame(data, index=index, columns=columns)\n",
    "\n",
    "print(\"原始DataFrame:\")\n",
    "print(df)\n",
    "\n",
    "# 将所有大于50的值修改为50\n",
    "df[df > 50] = 50\n",
    "\n",
    "print(\"\\n修改后的DataFrame:\")\n",
    "print(df)"
   ]
  }
 ],
 "metadata": {
  "kernelspec": {
   "display_name": "Python 3",
   "language": "python",
   "name": "python3"
  },
  "language_info": {
   "codemirror_mode": {
    "name": "ipython",
    "version": 3
   },
   "file_extension": ".py",
   "mimetype": "text/x-python",
   "name": "python",
   "nbconvert_exporter": "python",
   "pygments_lexer": "ipython3",
   "version": "3.12.4"
  }
 },
 "nbformat": 4,
 "nbformat_minor": 2
}
